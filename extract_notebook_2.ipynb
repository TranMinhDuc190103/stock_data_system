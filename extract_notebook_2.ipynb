{
 "cells": [
  {
   "cell_type": "code",
   "execution_count": 6,
   "metadata": {},
   "outputs": [],
   "source": [
    "import requests\n",
    "import pandas as pd\n",
    "from bs4 import BeautifulSoup\n",
    "from dags.module.object_client import MinioClient\n",
    "from minio import Minio\n",
    "from urllib3.util.retry import Retry\n",
    "from requests.adapters import HTTPAdapter\n",
    "import json\n",
    "import time\n",
    "from lxml import html"
   ]
  },
  {
   "cell_type": "code",
   "execution_count": 85,
   "metadata": {},
   "outputs": [],
   "source": [
    "import psycopg2\n",
    "\n",
    "conn = psycopg2.connect(\n",
    "    host=\"localhost\",\n",
    "    database=\"userdb\",\n",
    "    user=\"username\",\n",
    "    password=\"password\",\n",
    "    port=5439\n",
    ")\n",
    "\n",
    "cursor = conn.cursor()\n",
    "\n",
    "# Fact table queries\n",
    "\n",
    "fact_table_sql = '''\n",
    "    CREATE TABLE IF NOT EXISTS fact_stock_data(\n",
    "        id SERIAL PRIMARY KEY,\n",
    "        symbol VARCHAR(30) NOT NULL UNIQUE,\n",
    "        info_id VARCHAR(30) NOT NULL,\n",
    "        type VARCHAR(30) NOT NULL,\n",
    "        description VARCHAR(1000),\n",
    "        status VARCHAR(30)\n",
    "    )\n",
    "'''\n",
    "\n",
    "# Dim tables\n",
    "\n",
    "# dim_info_corpo_sql = '''\n",
    "#     CREATE TABLE IF NOT EXISTS dim_info_corpo(\n",
    "#         info_id VARCHAR(30) NOT NULL PRIMARY KEY,\n",
    "#         sector VARCHAR(50),\n",
    "#         industry VARCHAR(50)\n",
    "#     );\n",
    "# '''\n",
    "\n",
    "dim_info_stock_sql = '''\n",
    "    CREATE TABLE IF NOT EXISTS dim_info_stock(\n",
    "        info_id VARCHAR(20) NOT NULL PRIMARY KEY,\n",
    "        category VARCHAR(50),\n",
    "        fund_family VARCHAR(100),\n",
    "        net_assets VARCHAR(10),\n",
    "        legal_type VARCHAR(50),\n",
    "        sector VARCHAR(50),\n",
    "        industry VARCHAR(50)\n",
    "    );\n",
    "'''\n",
    "\n",
    "dim_hist_data_sql = '''\n",
    "    CREATE TABLE IF NOT EXISTS dim_hist_data(\n",
    "        record_id SERIAL,\n",
    "        \"Date\" DATE NOT NULL,\n",
    "        \"Open\" DECIMAL(8,1),\n",
    "        \"High\" DECIMAL(8,1),\n",
    "        \"Low\" DECIMAL(8,1),\n",
    "        \"Close\" DECIMAL(8,1),\n",
    "        \"Adj Close\" DECIMAL(8,1),\n",
    "        \"Volume\" DECIMAL(20,0),\n",
    "        \"Symbol\" VARCHAR(30) NOT NULL,\n",
    "        PRIMARY KEY (\"Symbol\", \"Date\")\n",
    "    );\n",
    "'''\n",
    "\n",
    "fk_setup_sql = '''\n",
    "    ALTER TABLE dim_hist_data ADD CONSTRAINT fk_fact_stock_data FOREIGN KEY (\"Symbol\") REFERENCES fact_stock_data(symbol);\n",
    "    ALTER TABLE fact_stock_data ADD CONSTRAINT fk_dim_info_stock FOREIGN KEY (info_id) REFERENCES dim_info_stock(info_id);\n",
    "'''\n",
    "\n",
    "cursor.execute(fact_table_sql)\n",
    "cursor.execute(dim_info_stock_sql)\n",
    "cursor.execute(dim_hist_data_sql)\n",
    "cursor.execute(fk_setup_sql)\n",
    "\n",
    "index_sql = \"\"\"\n",
    "    CREATE UNIQUE INDEX index_stock_symbol on fact_stock_data(symbol);\n",
    "    CREATE UNIQUE INDEX index_stock_info_id on fact_stock_data(info_id);  \n",
    "\"\"\"\n",
    "\n",
    "cursor.execute(f'''\n",
    "                CREATE TABLE IF NOT EXISTS temp_dim_hist_data(\n",
    "                record_id SERIAL,\n",
    "                \"Date\" DATE NOT NULL,\n",
    "                \"Open\" DECIMAL(8,1),\n",
    "                \"High\" DECIMAL(8,1),\n",
    "                \"Low\" DECIMAL(8,1),\n",
    "                \"Close\" DECIMAL(8,1),\n",
    "                \"Adj Close\" DECIMAL(8,1),\n",
    "                \"Volume\" BIGINT,\n",
    "                \"Symbol\" VARCHAR(30) NOT NULL,\n",
    "                PRIMARY KEY (\"Symbol\", \"Date\")\n",
    "                );\n",
    "                ''')\n",
    "cursor.execute(index_sql)\n",
    "conn.commit()"
   ]
  },
  {
   "cell_type": "code",
   "execution_count": 84,
   "metadata": {},
   "outputs": [],
   "source": [
    "conn.rollback()\n",
    "cursor.execute(\"Alter table dim_info_stock alter column category type varchar(50), alter column fund_family type varchar(50);\")\n",
    "conn.commit()"
   ]
  },
  {
   "cell_type": "code",
   "execution_count": 38,
   "metadata": {},
   "outputs": [
    {
     "data": {
      "text/plain": [
       "b'<div id=\"preload\"><img src=\"./images/background.svg\"> <img src=\"./images/background-wave-orig2.svg\"></div>'"
      ]
     },
     "execution_count": 38,
     "metadata": {},
     "output_type": "execute_result"
    }
   ],
   "source": [
    "import requests\n",
    "from dotenv import dotenv_values\n",
    "from lxml import html\n",
    "import json\n",
    "\n",
    "config = dotenv_values(\"dags/.env\")\n",
    "\n",
    "s = requests.Session()\n",
    "\n",
    "headers = json.loads(config['header_csv'])\n",
    "url = f'http://localhost:9001/browser/hist-data/A.csv'\n",
    "\n",
    "response = s.get(url, headers=headers)\n",
    "tree = html.fromstring(response.content)\n",
    "data = tree.xpath(\n",
    "                '/html/body/div/div')\n",
    "html.tostring(data[0])\n",
    "# data\n",
    "# response.content"
   ]
  },
  {
   "cell_type": "code",
   "execution_count": 39,
   "metadata": {},
   "outputs": [
    {
     "name": "stdout",
     "output_type": "stream",
     "text": [
      "FSNB-U\n",
      "\n"
     ]
    }
   ],
   "source": [
    "with open(\"dags/error_log_extract/error_log.txt\", \"r\") as f:\n",
    "    error_symbols = f.readlines()\n",
    "    first_error_symbol = error_symbols[-1]\n",
    "    print(first_error_symbol)    "
   ]
  },
  {
   "cell_type": "code",
   "execution_count": 74,
   "metadata": {},
   "outputs": [],
   "source": [
    "import pandas as pd\n",
    "from dags.module.object_client import MinioClient\n",
    "\n",
    "minio_client = MinioClient(\"localhost\", 9000, \"minio\", \"minio123\")\n",
    "csv_content = minio_client.get_object(\n",
    "                    bucket_name=\"hist-data\", obj_name=\"A.csv\")\n",
    "df = pd.read_csv(csv_content)\n",
    "df[\"Symbol\"] = 'A'\n",
    "batch_df = df.iloc[:1000]\n",
    "rows = [tuple(x) for x in batch_df.values.tolist()]"
   ]
  },
  {
   "cell_type": "code",
   "execution_count": 79,
   "metadata": {},
   "outputs": [
    {
     "name": "stdout",
     "output_type": "stream",
     "text": [
      ")\n"
     ]
    }
   ],
   "source": [
    "args_str = ','.join(cursor.mogrify(\"(%s,%s,%s,%s,%s,%s,%s,%s)\", x).decode('utf-8') for x in rows)\n",
    "print(args_str[-1])"
   ]
  },
  {
   "cell_type": "code",
   "execution_count": 52,
   "metadata": {},
   "outputs": [
    {
     "data": {
      "text/plain": [
       "Index(['Date', 'Open', 'High', 'Low', 'Close', 'Adj Close', 'Volume',\n",
       "       'Symbol'],\n",
       "      dtype='object')"
      ]
     },
     "execution_count": 52,
     "metadata": {},
     "output_type": "execute_result"
    }
   ],
   "source": [
    "df.columns"
   ]
  },
  {
   "cell_type": "code",
   "execution_count": 68,
   "metadata": {},
   "outputs": [],
   "source": [
    "cursor.execute(\"TRUNCATE dim_hist_data\")\n",
    "conn.commit()"
   ]
  },
  {
   "cell_type": "code",
   "execution_count": 69,
   "metadata": {},
   "outputs": [],
   "source": [
    "conn = psycopg2.connect(\n",
    "    host=\"localhost\",\n",
    "    database=\"userdb\",\n",
    "    user=\"username\",\n",
    "    password=\"password\",\n",
    "    port=5439\n",
    ")\n",
    "cursor = conn.cursor()\n",
    "upsert_query = '''\n",
    "                    INSERT INTO dim_hist_data (\"Date\", \"Open\", \"High\", \"Low\", \"Close\", \"Adj Close\", \"Volume\", \"Symbol\")\n",
    "                    VALUES (%s, %s, %s, %s, %s, %s, %s, %s)\n",
    "                    ON CONFLICT (\"Symbol\", \"Date\")\n",
    "                    DO UPDATE SET\n",
    "                    \"Open\" = EXCLUDED.\"Open\",\n",
    "                    \"High\" = EXCLUDED.\"High\",\n",
    "                    \"Low\" = EXCLUDED.\"Low\",\n",
    "                    \"Close\" = EXCLUDED.\"Close\",\n",
    "                    \"Adj Close\" = EXCLUDED.\"Adj Close\",\n",
    "                    \"Volume\" = EXCLUDED.\"Volume\"\n",
    "                '''\n",
    "cursor.executemany(upsert_query, rows)\n",
    "conn.commit()"
   ]
  },
  {
   "cell_type": "code",
   "execution_count": 38,
   "metadata": {},
   "outputs": [
    {
     "data": {
      "text/plain": [
       "[(0,)]"
      ]
     },
     "execution_count": 38,
     "metadata": {},
     "output_type": "execute_result"
    }
   ],
   "source": [
    "conn.rollback()\n",
    "cursor.execute(\"SELECT count(*) FROM public.fact_stock_data\")\n",
    "result = cursor.fetchall()\n",
    "result"
   ]
  },
  {
   "cell_type": "code",
   "execution_count": 65,
   "metadata": {},
   "outputs": [],
   "source": [
    "for index, row in batch_df.iterrows():\n",
    "    upsert_query = '''\n",
    "            INSERT INTO dim_hist_data (\"Date\", \"Open\", \"High\", \"Low\", \"Close\", \"Adj Close\", \"Volume\", \"Symbol\")\n",
    "            VALUES (%s, %s, %s, %s, %s, %s, %s, %s)\n",
    "            ON CONFLICT (\"Symbol\", \"Date\")\n",
    "            DO UPDATE SET\n",
    "            \"Open\" = EXCLUDED.\"Open\",\n",
    "            \"High\" = EXCLUDED.\"High\",\n",
    "            \"Low\" = EXCLUDED.\"Low\",\n",
    "            \"Close\" = EXCLUDED.\"Close\",\n",
    "            \"Adj Close\" = EXCLUDED.\"Adj Close\",\n",
    "            \"Volume\" = EXCLUDED.\"Volume\"    \n",
    "            '''\n",
    "    cursor.execute(upsert_query, tuple(row))\n",
    "    conn.commit()\n",
    "# Case encountering error again, rollback then log error and continue"
   ]
  },
  {
   "cell_type": "code",
   "execution_count": null,
   "metadata": {},
   "outputs": [],
   "source": []
  }
 ],
 "metadata": {
  "kernelspec": {
   "display_name": ".venv",
   "language": "python",
   "name": "python3"
  },
  "language_info": {
   "codemirror_mode": {
    "name": "ipython",
    "version": 3
   },
   "file_extension": ".py",
   "mimetype": "text/x-python",
   "name": "python",
   "nbconvert_exporter": "python",
   "pygments_lexer": "ipython3",
   "version": "3.10.0"
  }
 },
 "nbformat": 4,
 "nbformat_minor": 2
}
